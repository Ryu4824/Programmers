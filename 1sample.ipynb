{
 "cells": [
  {
   "cell_type": "code",
   "execution_count": 22,
   "metadata": {},
   "outputs": [
    {
     "name": "stdout",
     "output_type": "stream",
     "text": [
      "10\n"
     ]
    },
    {
     "data": {
      "text/plain": [
       "True"
      ]
     },
     "execution_count": 22,
     "metadata": {},
     "output_type": "execute_result"
    }
   ],
   "source": [
    "def solution(x):\n",
    "    answer = True\n",
    "    sum_list=[]\n",
    "    for i in str(x):\n",
    "        sum_list.append(int(i))\n",
    "    result = sum(sum_list)\n",
    "    print(result)\n",
    "    return answer\n",
    "solution(1234)"
   ]
  },
  {
   "cell_type": "code",
   "execution_count": null,
   "metadata": {},
   "outputs": [],
   "source": [
    "X\tY\tresult\n",
    "\"100\"\t\"2345\"\t\"-1\"\n",
    "\"100\"\t\"203045\"\t\"0\"\n",
    "\"100\"\t\"123450\"\t\"10\"\n",
    "\"12321\"\t\"42531\"\t\"321\"\n",
    "\"5525\"\t\"1255\"\t\"552\""
   ]
  },
  {
   "cell_type": "code",
   "execution_count": 45,
   "metadata": {},
   "outputs": [
    {
     "name": "stdout",
     "output_type": "stream",
     "text": [
      "0\n"
     ]
    },
    {
     "data": {
      "text/plain": [
       "'0'"
      ]
     },
     "execution_count": 45,
     "metadata": {},
     "output_type": "execute_result"
    }
   ],
   "source": [
    "def solution(X, Y):\n",
    "    answer =''\n",
    "    Y_list = list(Y)\n",
    "    for i in X:\n",
    "        if i in Y_list:\n",
    "            answer = answer + i\n",
    "            Y_list.remove(i)\n",
    "    answer = ''.join(sorted(answer,reverse=True))\n",
    "    if answer=='':\n",
    "        answer='-1'\n",
    "    if answer[0]=='0':\n",
    "        answer = '0'\n",
    "    return answer\n",
    "solution(\"100\",\"203045\")"
   ]
  },
  {
   "cell_type": "code",
   "execution_count": 67,
   "metadata": {},
   "outputs": [
    {
     "ename": "SyntaxError",
     "evalue": "invalid syntax (2693324684.py, line 1)",
     "output_type": "error",
     "traceback": [
      "\u001b[1;36m  Cell \u001b[1;32mIn[67], line 1\u001b[1;36m\u001b[0m\n\u001b[1;33m    queue1\tqueue2\tresult\u001b[0m\n\u001b[1;37m          \t^\u001b[0m\n\u001b[1;31mSyntaxError\u001b[0m\u001b[1;31m:\u001b[0m invalid syntax\n"
     ]
    }
   ],
   "source": [
    "queue1\tqueue2\tresult\n",
    "[3, 2, 7, 2]\t[4, 6, 5, 1]\t2\n",
    "[1, 2, 1, 2]\t[1, 10, 1, 2]\t7\n",
    "[1, 1]\t[1, 5]\t-1"
   ]
  },
  {
   "cell_type": "code",
   "execution_count": 134,
   "metadata": {},
   "outputs": [],
   "source": [
    "queue1=[1, 1]\n",
    "queue2=[1, 5]"
   ]
  },
  {
   "cell_type": "code",
   "execution_count": 135,
   "metadata": {},
   "outputs": [
    {
     "data": {
      "text/plain": [
       "-1"
      ]
     },
     "execution_count": 135,
     "metadata": {},
     "output_type": "execute_result"
    }
   ],
   "source": [
    "#challenge_id=10408\n",
    "def solution(queue1, queue2, answer=0):\n",
    "    if sum(queue1) == sum(queue2):\n",
    "        return answer\n",
    "    if sum(queue1) > sum(queue2):\n",
    "        popnum = queue1.pop(0)\n",
    "        queue2.append(popnum)\n",
    "    if sum(queue1) < sum(queue2):\n",
    "        popnum = queue2.pop(0)\n",
    "        queue1.append(popnum)\n",
    "    if len(queue1) == 0 or len(queue2) == 0:\n",
    "        return -1\n",
    "    return solution(queue1, queue2, answer + 1)\n",
    "solution(queue1, queue2)"
   ]
  },
  {
   "cell_type": "code",
   "execution_count": null,
   "metadata": {},
   "outputs": [],
   "source": [
    "book_time\tresult\n",
    "[[\"15:00\", \"17:00\"], [\"16:40\", \"18:20\"], [\"14:20\", \"15:20\"], [\"14:10\", \"19:20\"], [\"18:20\", \"21:20\"]]\t3\n",
    "[[\"09:10\", \"10:10\"], [\"10:20\", \"12:20\"]]\t1\n",
    "[[\"10:20\", \"12:30\"], [\"10:20\", \"12:30\"], [\"10:20\", \"12:30\"]]\t3"
   ]
  },
  {
   "cell_type": "code",
   "execution_count": 119,
   "metadata": {},
   "outputs": [],
   "source": [
    "book_time=[[\"15:00\", \"17:00\"], [\"16:40\", \"18:20\"], [\"14:20\", \"15:20\"], [\"14:10\", \"19:20\"], [\"18:20\", \"21:20\"]]"
   ]
  },
  {
   "cell_type": "code",
   "execution_count": 133,
   "metadata": {},
   "outputs": [
    {
     "data": {
      "text/plain": [
       "3"
      ]
     },
     "execution_count": 133,
     "metadata": {},
     "output_type": "execute_result"
    }
   ],
   "source": [
    "#challenge_id=15838\n",
    "def solution(book_time):\n",
    "    book_time.sort(key=lambda x: x[0])\n",
    "    rooms = []\n",
    "    answer = 0\n",
    "    for time_range in book_time:\n",
    "        in_time, out_time = time_range\n",
    "        available_room = None\n",
    "        for room in rooms:\n",
    "            if room < in_time:\n",
    "                available_room = room\n",
    "                break\n",
    "        if available_room is not None:\n",
    "            rooms.remove(available_room)\n",
    "        else:\n",
    "            answer += 1\n",
    "        rooms.append(out_time)\n",
    "    return answer\n",
    "solution(book_time)"
   ]
  }
 ],
 "metadata": {
  "kernelspec": {
   "display_name": "Python 3",
   "language": "python",
   "name": "python3"
  },
  "language_info": {
   "codemirror_mode": {
    "name": "ipython",
    "version": 3
   },
   "file_extension": ".py",
   "mimetype": "text/x-python",
   "name": "python",
   "nbconvert_exporter": "python",
   "pygments_lexer": "ipython3",
   "version": "3.11.5"
  },
  "orig_nbformat": 4
 },
 "nbformat": 4,
 "nbformat_minor": 2
}
